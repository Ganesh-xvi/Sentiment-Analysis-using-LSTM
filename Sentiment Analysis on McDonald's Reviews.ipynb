{
 "cells": [
  {
   "cell_type": "markdown",
   "id": "6f0b60ca",
   "metadata": {},
   "source": [
    "<div style=\"color:#D81F26;\n",
    "           display:fill;\n",
    "           border-style: solid;\n",
    "           border-color:#C1C1C1;\n",
    "           font-size:25px;\n",
    "           font-family:Calibri;\n",
    "           background-color:#373737;\">\n",
    "<h2 style=\"text-align: center;\n",
    "           padding: 10px;\n",
    "           color:#FFFFFF;\">\n",
    " Sentiment Analysis on McDonald's Reviews  Dataset\n",
    "</h2>\n",
    "</div>"
   ]
  },
  {
   "cell_type": "markdown",
   "id": "72a5f301",
   "metadata": {},
   "source": [
    "# Table of Contents\n",
    "\n",
    "1. [Problem Statement](#problem_statement)\n",
    "2. [Import Libraries](#import_libraries)\n",
    "3. [Data Cleaning](#data_cleaning)\n",
    "4. [Train and Test Split](#train_test_split)\n",
    "5. [Tokenizer and padding](#Tokenizer)\n",
    "6. [LSTM Architecture](#LSTM)\n",
    "7. [LSTM Model Summary](#Summary)\n",
    "8. [Evaluate the LSTM model](#Evaluate)\n",
    "9. [Model Testing](#Model_Testing)\n",
    "10. [Conclusion](#conclusion)"
   ]
  },
  {
   "cell_type": "markdown",
   "id": "88f12b00",
   "metadata": {},
   "source": [
    "# <p style=\"font-family:JetBrains Mono; font-weight:normal; letter-spacing: 2px; color:#FF5C19; font-size:200%; text-align:left;padding: 0px; border-bottom: 3px solid #FF5C19\">Problem Statement  <a id=\"problem_statement\"></a> </p>"
   ]
  },
  {
   "cell_type": "markdown",
   "id": "1434e34d",
   "metadata": {},
   "source": [
    "> The task involves sentiment analysis on customer reviews of a McDonald's restaurant using Natural Language Processing (NLP) techniques and a Long Short-Term Memory (LSTM) neural network model.\n",
    "\n",
    "> The objective is to train a model that can classify customer sentiments as positive, negative, or neutral based on the textual content of their reviews. \n",
    "\n",
    "> The dataset includes reviews and corresponding ratings, with sentiment labels derived from the ratings. The challenges include preprocessing the text data, handling imbalanced classes, and training an effective LSTM model using pre-trained word embeddings. \n",
    "\n",
    "> The goal is to provide McDonald's with a tool that can automatically analyze and categorize customer sentiments to gain insights into their overall satisfaction and identify areas for improvement."
   ]
  },
  {
   "cell_type": "markdown",
   "id": "35c01ef1",
   "metadata": {},
   "source": [
    "# <p style=\"font-family:JetBrains Mono; font-weight:normal; letter-spacing: 2px; color:#FF5C19; font-size:200%; text-align:left;padding: 0px; border-bottom: 3px solid #FF5C19\">Import Libraries <a id=\"import_libraries\"></a>  </p>"
   ]
  },
  {
   "cell_type": "code",
   "execution_count": 1,
   "id": "837e5b27",
   "metadata": {},
   "outputs": [],
   "source": [
    "import pandas as pd\n",
    "import numpy as np\n",
    "import matplotlib.pyplot  as plt\n",
    "%matplotlib inline\n",
    "import seaborn as sns\n",
    "import warnings\n",
    "warnings.filterwarnings('ignore')\n",
    "warnings.filterwarnings(\"ignore\", category=DeprecationWarning)"
   ]
  },
  {
   "cell_type": "code",
   "execution_count": 2,
   "id": "71dc7ec2",
   "metadata": {},
   "outputs": [],
   "source": [
    "import tensorflow as tf\n",
    "from keras import backend as K\n",
    "from tensorflow.keras.preprocessing.sequence import pad_sequences\n",
    "from tensorflow.keras.layers import Embedding,SimpleRNN, LSTM, Dense, Bidirectional,Dropout\n",
    "from tensorflow.keras.preprocessing.text import Tokenizer\n",
    "from tensorflow.keras.models import Sequential\n",
    "from tensorflow.keras.optimizers import Adam\n",
    "from sklearn.model_selection import train_test_split\n",
    "from tensorflow.keras.preprocessing.text import Tokenizer\n",
    "from tensorflow.keras.callbacks import EarlyStopping"
   ]
  },
  {
   "cell_type": "code",
   "execution_count": 3,
   "id": "053ca54d",
   "metadata": {},
   "outputs": [],
   "source": [
    "import re\n",
    "import emoji\n",
    "import gensim"
   ]
  },
  {
   "cell_type": "code",
   "execution_count": 4,
   "id": "ae2bdff8",
   "metadata": {},
   "outputs": [],
   "source": [
    "from nltk import ngrams\n",
    "from nltk.tokenize import word_tokenize\n",
    "\n",
    "import spacy\n",
    "nlp = spacy.load(\"en_core_web_sm\") \n",
    "\n",
    "from nltk.corpus import stopwords\n",
    "stop_words = set(stopwords.words('english')) \n",
    "\n",
    "from nltk.stem import WordNetLemmatizer\n",
    "lemmatizer = WordNetLemmatizer()\n",
    "\n",
    "from sklearn.metrics import classification_report,confusion_matrix,accuracy_score"
   ]
  },
  {
   "cell_type": "code",
   "execution_count": 5,
   "id": "43e8d910",
   "metadata": {},
   "outputs": [],
   "source": [
    "# Use the read_csv function with the usecols parameter\n",
    "df = pd.read_csv('McDonald_s_Reviews.csv', encoding='latin1', usecols=[\"review\", \"rating\"])"
   ]
  },
  {
   "cell_type": "code",
   "execution_count": 6,
   "id": "249cc555",
   "metadata": {},
   "outputs": [
    {
     "data": {
      "text/html": [
       "<div>\n",
       "<style scoped>\n",
       "    .dataframe tbody tr th:only-of-type {\n",
       "        vertical-align: middle;\n",
       "    }\n",
       "\n",
       "    .dataframe tbody tr th {\n",
       "        vertical-align: top;\n",
       "    }\n",
       "\n",
       "    .dataframe thead th {\n",
       "        text-align: right;\n",
       "    }\n",
       "</style>\n",
       "<table border=\"1\" class=\"dataframe\">\n",
       "  <thead>\n",
       "    <tr style=\"text-align: right;\">\n",
       "      <th></th>\n",
       "      <th>review</th>\n",
       "      <th>rating</th>\n",
       "    </tr>\n",
       "  </thead>\n",
       "  <tbody>\n",
       "    <tr>\n",
       "      <th>0</th>\n",
       "      <td>Why does it look like someone spit on my food?...</td>\n",
       "      <td>1 star</td>\n",
       "    </tr>\n",
       "    <tr>\n",
       "      <th>1</th>\n",
       "      <td>It'd McDonalds. It is what it is as far as the...</td>\n",
       "      <td>4 stars</td>\n",
       "    </tr>\n",
       "    <tr>\n",
       "      <th>2</th>\n",
       "      <td>Made a mobile order got to the speaker and che...</td>\n",
       "      <td>1 star</td>\n",
       "    </tr>\n",
       "    <tr>\n",
       "      <th>3</th>\n",
       "      <td>My mc. Crispy chicken sandwich was ï¿½ï¿½ï¿½ï¿...</td>\n",
       "      <td>5 stars</td>\n",
       "    </tr>\n",
       "    <tr>\n",
       "      <th>4</th>\n",
       "      <td>I repeat my order 3 times in the drive thru, a...</td>\n",
       "      <td>1 star</td>\n",
       "    </tr>\n",
       "    <tr>\n",
       "      <th>...</th>\n",
       "      <td>...</td>\n",
       "      <td>...</td>\n",
       "    </tr>\n",
       "    <tr>\n",
       "      <th>33391</th>\n",
       "      <td>They treated me very badly.</td>\n",
       "      <td>1 star</td>\n",
       "    </tr>\n",
       "    <tr>\n",
       "      <th>33392</th>\n",
       "      <td>The service is very good</td>\n",
       "      <td>5 stars</td>\n",
       "    </tr>\n",
       "    <tr>\n",
       "      <th>33393</th>\n",
       "      <td>To remove hunger is enough</td>\n",
       "      <td>4 stars</td>\n",
       "    </tr>\n",
       "    <tr>\n",
       "      <th>33394</th>\n",
       "      <td>It's good, but lately it has become very expen...</td>\n",
       "      <td>5 stars</td>\n",
       "    </tr>\n",
       "    <tr>\n",
       "      <th>33395</th>\n",
       "      <td>they took good care of me</td>\n",
       "      <td>5 stars</td>\n",
       "    </tr>\n",
       "  </tbody>\n",
       "</table>\n",
       "<p>33396 rows × 2 columns</p>\n",
       "</div>"
      ],
      "text/plain": [
       "                                                  review   rating\n",
       "0      Why does it look like someone spit on my food?...   1 star\n",
       "1      It'd McDonalds. It is what it is as far as the...  4 stars\n",
       "2      Made a mobile order got to the speaker and che...   1 star\n",
       "3      My mc. Crispy chicken sandwich was ï¿½ï¿½ï¿½ï¿...  5 stars\n",
       "4      I repeat my order 3 times in the drive thru, a...   1 star\n",
       "...                                                  ...      ...\n",
       "33391                        They treated me very badly.   1 star\n",
       "33392                           The service is very good  5 stars\n",
       "33393                         To remove hunger is enough  4 stars\n",
       "33394  It's good, but lately it has become very expen...  5 stars\n",
       "33395                          they took good care of me  5 stars\n",
       "\n",
       "[33396 rows x 2 columns]"
      ]
     },
     "execution_count": 6,
     "metadata": {},
     "output_type": "execute_result"
    }
   ],
   "source": [
    "df"
   ]
  },
  {
   "cell_type": "markdown",
   "id": "df39ef4b",
   "metadata": {},
   "source": [
    "# <p style=\"font-family:JetBrains Mono; font-weight:normal; letter-spacing: 2px; color:#FF5C19; font-size:200%; text-align:left;padding: 0px; border-bottom: 3px solid #FF5C19\">Data Cleaning <a id=\"data_cleaning\"></a> </p>"
   ]
  },
  {
   "cell_type": "code",
   "execution_count": 7,
   "id": "3d145bbb",
   "metadata": {},
   "outputs": [],
   "source": [
    "def cleanTweets(text):\n",
    "    text = re.sub('[^a-zA-Z]', ' ', str(text).lower().strip())\n",
    "    text = re.sub('@[A-Za-z0-9_]+', '', text) \n",
    "    text = re.sub('#','',text) \n",
    "    text = re.sub('RT[\\s]+','',text)\n",
    "    text = re.sub('https?:\\/\\/\\S+', '', text) \n",
    "    text = re.sub('\\n',' ',text)\n",
    "    text = emoji.replace_emoji(text, replace='')\n",
    "    return text"
   ]
  },
  {
   "cell_type": "code",
   "execution_count": 8,
   "id": "24492310",
   "metadata": {},
   "outputs": [],
   "source": [
    "df['review'] = df['review'].apply(cleanTweets)"
   ]
  },
  {
   "cell_type": "code",
   "execution_count": 9,
   "id": "249a72a2",
   "metadata": {},
   "outputs": [],
   "source": [
    "df[\"rating\"] = df[\"rating\"].str.extract('(\\d+)').astype(float)\n",
    "# Convert to integers\n",
    "df[\"rating\"] = df[\"rating\"].astype(int)"
   ]
  },
  {
   "cell_type": "markdown",
   "id": "19cec065",
   "metadata": {},
   "source": [
    "#### Define the classify_sentiment() function to interpret the sentiment based on the compound score. The function is under the condition that:\n",
    "\n",
    "- If the compound score is greater than 4, it's considered positive.\n",
    "- If the compound score is less than 2, it's considered negative.\n",
    "- Otherwise, it's considered neutral."
   ]
  },
  {
   "cell_type": "code",
   "execution_count": 10,
   "id": "c5cd5135",
   "metadata": {},
   "outputs": [],
   "source": [
    "def classify_sentiment(rating):\n",
    "    if rating >= 4:\n",
    "        return 'Positive'\n",
    "    elif rating <= 2:\n",
    "        return 'Negative'\n",
    "    else:\n",
    "        return 'Neutral'\n",
    "    \n",
    "df['sentiment'] = df['rating'].apply(classify_sentiment)\n",
    "df.drop('rating',axis=1,inplace=True)"
   ]
  },
  {
   "cell_type": "code",
   "execution_count": 11,
   "id": "b731e2c4",
   "metadata": {},
   "outputs": [
    {
     "data": {
      "text/plain": [
       "sentiment\n",
       "Positive    16061\n",
       "Negative    12517\n",
       "Neutral      4818\n",
       "Name: count, dtype: int64"
      ]
     },
     "execution_count": 11,
     "metadata": {},
     "output_type": "execute_result"
    }
   ],
   "source": [
    "df['sentiment'].value_counts()"
   ]
  },
  {
   "cell_type": "code",
   "execution_count": 12,
   "id": "494ec4df",
   "metadata": {},
   "outputs": [],
   "source": [
    "df['sentiment'] = df['sentiment'].replace({'Negative':2,'Positive':1,'Neutral':0})"
   ]
  },
  {
   "cell_type": "code",
   "execution_count": 13,
   "id": "40d5851a",
   "metadata": {},
   "outputs": [
    {
     "data": {
      "text/html": [
       "<div>\n",
       "<style scoped>\n",
       "    .dataframe tbody tr th:only-of-type {\n",
       "        vertical-align: middle;\n",
       "    }\n",
       "\n",
       "    .dataframe tbody tr th {\n",
       "        vertical-align: top;\n",
       "    }\n",
       "\n",
       "    .dataframe thead th {\n",
       "        text-align: right;\n",
       "    }\n",
       "</style>\n",
       "<table border=\"1\" class=\"dataframe\">\n",
       "  <thead>\n",
       "    <tr style=\"text-align: right;\">\n",
       "      <th></th>\n",
       "      <th>review</th>\n",
       "      <th>sentiment</th>\n",
       "    </tr>\n",
       "  </thead>\n",
       "  <tbody>\n",
       "    <tr>\n",
       "      <th>0</th>\n",
       "      <td>why does it look like someone spit on my food ...</td>\n",
       "      <td>2</td>\n",
       "    </tr>\n",
       "    <tr>\n",
       "      <th>1</th>\n",
       "      <td>it d mcdonalds  it is what it is as far as the...</td>\n",
       "      <td>1</td>\n",
       "    </tr>\n",
       "    <tr>\n",
       "      <th>2</th>\n",
       "      <td>made a mobile order got to the speaker and che...</td>\n",
       "      <td>2</td>\n",
       "    </tr>\n",
       "    <tr>\n",
       "      <th>3</th>\n",
       "      <td>my mc  crispy chicken sandwich was            ...</td>\n",
       "      <td>1</td>\n",
       "    </tr>\n",
       "    <tr>\n",
       "      <th>4</th>\n",
       "      <td>i repeat my order   times in the drive thru  a...</td>\n",
       "      <td>2</td>\n",
       "    </tr>\n",
       "    <tr>\n",
       "      <th>...</th>\n",
       "      <td>...</td>\n",
       "      <td>...</td>\n",
       "    </tr>\n",
       "    <tr>\n",
       "      <th>33391</th>\n",
       "      <td>they treated me very badly</td>\n",
       "      <td>2</td>\n",
       "    </tr>\n",
       "    <tr>\n",
       "      <th>33392</th>\n",
       "      <td>the service is very good</td>\n",
       "      <td>1</td>\n",
       "    </tr>\n",
       "    <tr>\n",
       "      <th>33393</th>\n",
       "      <td>to remove hunger is enough</td>\n",
       "      <td>1</td>\n",
       "    </tr>\n",
       "    <tr>\n",
       "      <th>33394</th>\n",
       "      <td>it s good  but lately it has become very expen...</td>\n",
       "      <td>1</td>\n",
       "    </tr>\n",
       "    <tr>\n",
       "      <th>33395</th>\n",
       "      <td>they took good care of me</td>\n",
       "      <td>1</td>\n",
       "    </tr>\n",
       "  </tbody>\n",
       "</table>\n",
       "<p>33396 rows × 2 columns</p>\n",
       "</div>"
      ],
      "text/plain": [
       "                                                  review  sentiment\n",
       "0      why does it look like someone spit on my food ...          2\n",
       "1      it d mcdonalds  it is what it is as far as the...          1\n",
       "2      made a mobile order got to the speaker and che...          2\n",
       "3      my mc  crispy chicken sandwich was            ...          1\n",
       "4      i repeat my order   times in the drive thru  a...          2\n",
       "...                                                  ...        ...\n",
       "33391                        they treated me very badly           2\n",
       "33392                           the service is very good          1\n",
       "33393                         to remove hunger is enough          1\n",
       "33394  it s good  but lately it has become very expen...          1\n",
       "33395                          they took good care of me          1\n",
       "\n",
       "[33396 rows x 2 columns]"
      ]
     },
     "execution_count": 13,
     "metadata": {},
     "output_type": "execute_result"
    }
   ],
   "source": [
    "df"
   ]
  },
  {
   "cell_type": "code",
   "execution_count": 14,
   "id": "709e4c14",
   "metadata": {},
   "outputs": [],
   "source": [
    "# Function for stopword removal using SpaCy\n",
    "def remove_stopwords_spacy(text):\n",
    "    doc = nlp(text)\n",
    "    filtered_words = [token.text for token in doc if not token.is_stop]\n",
    "    return ' '.join(filtered_words)"
   ]
  },
  {
   "cell_type": "code",
   "execution_count": 15,
   "id": "d3c04275",
   "metadata": {},
   "outputs": [],
   "source": [
    "df['review'] = df['review'].apply(remove_stopwords_spacy)"
   ]
  },
  {
   "cell_type": "markdown",
   "id": "5d070974",
   "metadata": {},
   "source": [
    "# <p style=\"font-family:JetBrains Mono; font-weight:normal; letter-spacing: 2px; color:#FF5C19; font-size:200%; text-align:left;padding: 0px; border-bottom: 3px solid #FF5C19\">Train and Test Split <a id=\"train_test_split\"></a> </p>"
   ]
  },
  {
   "cell_type": "code",
   "execution_count": 16,
   "id": "b019d087",
   "metadata": {},
   "outputs": [],
   "source": [
    "X_train, X_test, y_train, y_test = train_test_split(df['review'],df['sentiment'],test_size=0.2)"
   ]
  },
  {
   "cell_type": "markdown",
   "id": "18c0b435",
   "metadata": {},
   "source": [
    "# <p style=\"font-family:JetBrains Mono; font-weight:normal; letter-spacing: 2px; color:#FF5C19; font-size:200%; text-align:left;padding: 0px; border-bottom: 3px solid #FF5C19\">Tokenizer and padding <a id=\"Tokenizer\"></a>  </p>"
   ]
  },
  {
   "cell_type": "code",
   "execution_count": 17,
   "id": "30f0551c",
   "metadata": {},
   "outputs": [],
   "source": [
    "corpus = df['review']"
   ]
  },
  {
   "cell_type": "code",
   "execution_count": 44,
   "id": "2050804d",
   "metadata": {},
   "outputs": [
    {
     "name": "stdout",
     "output_type": "stream",
     "text": [
      "13148\n"
     ]
    }
   ],
   "source": [
    "tokenizer = Tokenizer()\n",
    "tokenizer.fit_on_texts(corpus)\n",
    "word_index = tokenizer.word_index\n",
    "total_unique_words = len(tokenizer.word_index) + 1 \n",
    "print(total_unique_words)\n",
    "# print(word_index)"
   ]
  },
  {
   "cell_type": "code",
   "execution_count": 19,
   "id": "e9b8db25",
   "metadata": {},
   "outputs": [],
   "source": [
    "X_train_sequences = tokenizer.texts_to_sequences(X_train)\n",
    "X_test_sequences  = tokenizer.texts_to_sequences(X_test)"
   ]
  },
  {
   "cell_type": "code",
   "execution_count": 20,
   "id": "4147db43",
   "metadata": {},
   "outputs": [],
   "source": [
    "max_seq_length    = max([len(x) for x in X_train_sequences])\n",
    "X_train_padded    = np.array(pad_sequences(X_train_sequences, maxlen=max_seq_length, padding='pre'))\n",
    "X_test_padded     = np.array(pad_sequences(X_test_sequences,  maxlen=max_seq_length, padding='pre'))"
   ]
  },
  {
   "cell_type": "code",
   "execution_count": 21,
   "id": "2bcdae28",
   "metadata": {},
   "outputs": [],
   "source": [
    "path = r\"C:\\Users\\kumar\\Data science\\8.NLP\\4.NLP Class Workouts\\glove.txt\"\n",
    "embeddings_index = {}\n",
    "with open(path,encoding='utf-8') as f:\n",
    "    for line in f:\n",
    "        values = line.split()\n",
    "        word = values[0]\n",
    "        coeffs = np.array(values[1:], dtype='float32')\n",
    "        embeddings_index[word] = coeffs"
   ]
  },
  {
   "cell_type": "code",
   "execution_count": 22,
   "id": "84fc789e",
   "metadata": {},
   "outputs": [],
   "source": [
    "embeddings_matrix = np.zeros((total_unique_words, 50))\n",
    "for word, i in tokenizer.word_index.items():\n",
    "    embedding_vector = embeddings_index.get(word)\n",
    "    if embedding_vector is not None:\n",
    "        embeddings_matrix[i] = embedding_vector;"
   ]
  },
  {
   "cell_type": "markdown",
   "id": "1311bef3",
   "metadata": {},
   "source": [
    "# <p style=\"font-family:JetBrains Mono; font-weight:normal; letter-spacing: 2px; color:#FF5C19; font-size:200%; text-align:left;padding: 0px; border-bottom: 3px solid #FF5C19\">LSTM Architecture <a id=\"LSTM\"></a> </p>"
   ]
  },
  {
   "cell_type": "code",
   "execution_count": 27,
   "id": "9736c374",
   "metadata": {},
   "outputs": [],
   "source": [
    "K.clear_session()\n",
    "\n",
    "model = Sequential()\n",
    "\n",
    "# Embedding layer without 'input_length' argument\n",
    "model.add(Embedding(input_dim=total_unique_words, output_dim=50, trainable=False))\n",
    "\n",
    "# Bidirectional LSTM layer with return_sequences=True\n",
    "model.add(Bidirectional(LSTM(32, return_sequences=True)))\n",
    "\n",
    "# Dropout layer\n",
    "model.add(Dropout(0.2))\n",
    "\n",
    "# Bidirectional LSTM layer without return_sequences (last LSTM layer)\n",
    "model.add(Bidirectional(LSTM(32)))\n",
    "\n",
    "# Dropout layer\n",
    "model.add(Dropout(0.2))\n",
    "\n",
    "# Dense layer with 128 units and 'relu' activation\n",
    "model.add(Dense(128, activation='relu'))\n",
    "\n",
    "# Dense layer with total_unique_words units and 'softmax' activation\n",
    "model.add(Dense(3, activation='softmax'))"
   ]
  },
  {
   "cell_type": "code",
   "execution_count": 28,
   "id": "0d516428",
   "metadata": {},
   "outputs": [],
   "source": [
    "# Compile the model\n",
    "model.compile(optimizer=Adam(learning_rate=0.001), loss='sparse_categorical_crossentropy', metrics=['accuracy'])"
   ]
  },
  {
   "cell_type": "code",
   "execution_count": 29,
   "id": "feed0b0d",
   "metadata": {},
   "outputs": [],
   "source": [
    "early_stopping = EarlyStopping(monitor='val_loss', patience=3, restore_best_weights=True)"
   ]
  },
  {
   "cell_type": "code",
   "execution_count": 30,
   "id": "a9607196",
   "metadata": {},
   "outputs": [
    {
     "name": "stdout",
     "output_type": "stream",
     "text": [
      "Epoch 1/10\n",
      "\u001b[1m84/84\u001b[0m \u001b[32m━━━━━━━━━━━━━━━━━━━━\u001b[0m\u001b[37m\u001b[0m \u001b[1m148s\u001b[0m 2s/step - accuracy: 0.5675 - loss: 0.9314 - val_accuracy: 0.7603 - val_loss: 0.5963\n",
      "Epoch 2/10\n",
      "\u001b[1m84/84\u001b[0m \u001b[32m━━━━━━━━━━━━━━━━━━━━\u001b[0m\u001b[37m\u001b[0m \u001b[1m104s\u001b[0m 1s/step - accuracy: 0.7877 - loss: 0.5476 - val_accuracy: 0.8020 - val_loss: 0.5292\n",
      "Epoch 3/10\n",
      "\u001b[1m84/84\u001b[0m \u001b[32m━━━━━━━━━━━━━━━━━━━━\u001b[0m\u001b[37m\u001b[0m \u001b[1m105s\u001b[0m 1s/step - accuracy: 0.8286 - loss: 0.4568 - val_accuracy: 0.8026 - val_loss: 0.5098\n",
      "Epoch 4/10\n",
      "\u001b[1m84/84\u001b[0m \u001b[32m━━━━━━━━━━━━━━━━━━━━\u001b[0m\u001b[37m\u001b[0m \u001b[1m108s\u001b[0m 1s/step - accuracy: 0.8603 - loss: 0.3853 - val_accuracy: 0.8018 - val_loss: 0.5277\n",
      "Epoch 5/10\n",
      "\u001b[1m84/84\u001b[0m \u001b[32m━━━━━━━━━━━━━━━━━━━━\u001b[0m\u001b[37m\u001b[0m \u001b[1m108s\u001b[0m 1s/step - accuracy: 0.8803 - loss: 0.3386 - val_accuracy: 0.8061 - val_loss: 0.5518\n",
      "Epoch 6/10\n",
      "\u001b[1m84/84\u001b[0m \u001b[32m━━━━━━━━━━━━━━━━━━━━\u001b[0m\u001b[37m\u001b[0m \u001b[1m111s\u001b[0m 1s/step - accuracy: 0.8965 - loss: 0.2989 - val_accuracy: 0.8056 - val_loss: 0.5657\n"
     ]
    }
   ],
   "source": [
    "history = model.fit(X_train_padded, y_train, epochs=10, validation_split=0.2, verbose=1, batch_size=256,callbacks=[early_stopping])"
   ]
  },
  {
   "cell_type": "markdown",
   "id": "7207c9e5",
   "metadata": {},
   "source": [
    "# <p style=\"font-family:JetBrains Mono; font-weight:normal; letter-spacing: 2px; color:#FF5C19; font-size:200%; text-align:left;padding: 0px; border-bottom: 3px solid #FF5C19\">LSTM Model Summary <a id=\"Summary\"></a> </p>"
   ]
  },
  {
   "cell_type": "code",
   "execution_count": 31,
   "id": "2a711bb6",
   "metadata": {},
   "outputs": [],
   "source": [
    "def plot_history(history):\n",
    "    hist = history.history\n",
    "\n",
    "    plt.figure(figsize=(12, 6))\n",
    "    plt.subplot(1, 2, 1)\n",
    "    plt.plot(np.arange(1, len(hist['accuracy']) + 1), hist['accuracy'], label='Train Accuracy')\n",
    "    plt.plot(np.arange(1, len(hist['val_accuracy']) + 1), hist['val_accuracy'], label='Validation Accuracy')\n",
    "    plt.xlabel('Epoch')\n",
    "    plt.ylabel('Accuracy')\n",
    "    plt.ylim([0, 1])\n",
    "    plt.legend()\n",
    "\n",
    "    plt.subplot(1, 2, 2)\n",
    "    plt.plot(np.arange(1, len(hist['loss']) + 1), hist['loss'], label='Train Loss')\n",
    "    plt.plot(np.arange(1, len(hist['val_loss']) + 1), hist['val_loss'], label='Validation Loss')\n",
    "    plt.xlabel('Epoch')\n",
    "    plt.ylabel('Loss')\n",
    "    plt.legend()\n",
    "\n",
    "    plt.show()"
   ]
  },
  {
   "cell_type": "code",
   "execution_count": 32,
   "id": "2c863438",
   "metadata": {},
   "outputs": [
    {
     "data": {
      "text/html": [
       "<pre style=\"white-space:pre;overflow-x:auto;line-height:normal;font-family:Menlo,'DejaVu Sans Mono',consolas,'Courier New',monospace\"><span style=\"font-weight: bold\">Model: \"sequential\"</span>\n",
       "</pre>\n"
      ],
      "text/plain": [
       "\u001b[1mModel: \"sequential\"\u001b[0m\n"
      ]
     },
     "metadata": {},
     "output_type": "display_data"
    },
    {
     "data": {
      "text/html": [
       "<pre style=\"white-space:pre;overflow-x:auto;line-height:normal;font-family:Menlo,'DejaVu Sans Mono',consolas,'Courier New',monospace\">┏━━━━━━━━━━━━━━━━━━━━━━━━━━━━━━━━━━━━┳━━━━━━━━━━━━━━━━━━━━━━━━━━━━━━━┳━━━━━━━━━━━━━┓\n",
       "┃<span style=\"font-weight: bold\"> Layer (type)                       </span>┃<span style=\"font-weight: bold\"> Output Shape                  </span>┃<span style=\"font-weight: bold\">     Param # </span>┃\n",
       "┡━━━━━━━━━━━━━━━━━━━━━━━━━━━━━━━━━━━━╇━━━━━━━━━━━━━━━━━━━━━━━━━━━━━━━╇━━━━━━━━━━━━━┩\n",
       "│ embedding (<span style=\"color: #0087ff; text-decoration-color: #0087ff\">Embedding</span>)              │ (<span style=\"color: #00d7ff; text-decoration-color: #00d7ff\">None</span>, <span style=\"color: #00af00; text-decoration-color: #00af00\">248</span>, <span style=\"color: #00af00; text-decoration-color: #00af00\">50</span>)               │     <span style=\"color: #00af00; text-decoration-color: #00af00\">657,400</span> │\n",
       "├────────────────────────────────────┼───────────────────────────────┼─────────────┤\n",
       "│ bidirectional (<span style=\"color: #0087ff; text-decoration-color: #0087ff\">Bidirectional</span>)      │ (<span style=\"color: #00d7ff; text-decoration-color: #00d7ff\">None</span>, <span style=\"color: #00af00; text-decoration-color: #00af00\">248</span>, <span style=\"color: #00af00; text-decoration-color: #00af00\">64</span>)               │      <span style=\"color: #00af00; text-decoration-color: #00af00\">21,248</span> │\n",
       "├────────────────────────────────────┼───────────────────────────────┼─────────────┤\n",
       "│ dropout (<span style=\"color: #0087ff; text-decoration-color: #0087ff\">Dropout</span>)                  │ (<span style=\"color: #00d7ff; text-decoration-color: #00d7ff\">None</span>, <span style=\"color: #00af00; text-decoration-color: #00af00\">248</span>, <span style=\"color: #00af00; text-decoration-color: #00af00\">64</span>)               │           <span style=\"color: #00af00; text-decoration-color: #00af00\">0</span> │\n",
       "├────────────────────────────────────┼───────────────────────────────┼─────────────┤\n",
       "│ bidirectional_1 (<span style=\"color: #0087ff; text-decoration-color: #0087ff\">Bidirectional</span>)    │ (<span style=\"color: #00d7ff; text-decoration-color: #00d7ff\">None</span>, <span style=\"color: #00af00; text-decoration-color: #00af00\">64</span>)                    │      <span style=\"color: #00af00; text-decoration-color: #00af00\">24,832</span> │\n",
       "├────────────────────────────────────┼───────────────────────────────┼─────────────┤\n",
       "│ dropout_1 (<span style=\"color: #0087ff; text-decoration-color: #0087ff\">Dropout</span>)                │ (<span style=\"color: #00d7ff; text-decoration-color: #00d7ff\">None</span>, <span style=\"color: #00af00; text-decoration-color: #00af00\">64</span>)                    │           <span style=\"color: #00af00; text-decoration-color: #00af00\">0</span> │\n",
       "├────────────────────────────────────┼───────────────────────────────┼─────────────┤\n",
       "│ dense (<span style=\"color: #0087ff; text-decoration-color: #0087ff\">Dense</span>)                      │ (<span style=\"color: #00d7ff; text-decoration-color: #00d7ff\">None</span>, <span style=\"color: #00af00; text-decoration-color: #00af00\">128</span>)                   │       <span style=\"color: #00af00; text-decoration-color: #00af00\">8,320</span> │\n",
       "├────────────────────────────────────┼───────────────────────────────┼─────────────┤\n",
       "│ dense_1 (<span style=\"color: #0087ff; text-decoration-color: #0087ff\">Dense</span>)                    │ (<span style=\"color: #00d7ff; text-decoration-color: #00d7ff\">None</span>, <span style=\"color: #00af00; text-decoration-color: #00af00\">3</span>)                     │         <span style=\"color: #00af00; text-decoration-color: #00af00\">387</span> │\n",
       "└────────────────────────────────────┴───────────────────────────────┴─────────────┘\n",
       "</pre>\n"
      ],
      "text/plain": [
       "┏━━━━━━━━━━━━━━━━━━━━━━━━━━━━━━━━━━━━┳━━━━━━━━━━━━━━━━━━━━━━━━━━━━━━━┳━━━━━━━━━━━━━┓\n",
       "┃\u001b[1m \u001b[0m\u001b[1mLayer (type)                      \u001b[0m\u001b[1m \u001b[0m┃\u001b[1m \u001b[0m\u001b[1mOutput Shape                 \u001b[0m\u001b[1m \u001b[0m┃\u001b[1m \u001b[0m\u001b[1m    Param #\u001b[0m\u001b[1m \u001b[0m┃\n",
       "┡━━━━━━━━━━━━━━━━━━━━━━━━━━━━━━━━━━━━╇━━━━━━━━━━━━━━━━━━━━━━━━━━━━━━━╇━━━━━━━━━━━━━┩\n",
       "│ embedding (\u001b[38;5;33mEmbedding\u001b[0m)              │ (\u001b[38;5;45mNone\u001b[0m, \u001b[38;5;34m248\u001b[0m, \u001b[38;5;34m50\u001b[0m)               │     \u001b[38;5;34m657,400\u001b[0m │\n",
       "├────────────────────────────────────┼───────────────────────────────┼─────────────┤\n",
       "│ bidirectional (\u001b[38;5;33mBidirectional\u001b[0m)      │ (\u001b[38;5;45mNone\u001b[0m, \u001b[38;5;34m248\u001b[0m, \u001b[38;5;34m64\u001b[0m)               │      \u001b[38;5;34m21,248\u001b[0m │\n",
       "├────────────────────────────────────┼───────────────────────────────┼─────────────┤\n",
       "│ dropout (\u001b[38;5;33mDropout\u001b[0m)                  │ (\u001b[38;5;45mNone\u001b[0m, \u001b[38;5;34m248\u001b[0m, \u001b[38;5;34m64\u001b[0m)               │           \u001b[38;5;34m0\u001b[0m │\n",
       "├────────────────────────────────────┼───────────────────────────────┼─────────────┤\n",
       "│ bidirectional_1 (\u001b[38;5;33mBidirectional\u001b[0m)    │ (\u001b[38;5;45mNone\u001b[0m, \u001b[38;5;34m64\u001b[0m)                    │      \u001b[38;5;34m24,832\u001b[0m │\n",
       "├────────────────────────────────────┼───────────────────────────────┼─────────────┤\n",
       "│ dropout_1 (\u001b[38;5;33mDropout\u001b[0m)                │ (\u001b[38;5;45mNone\u001b[0m, \u001b[38;5;34m64\u001b[0m)                    │           \u001b[38;5;34m0\u001b[0m │\n",
       "├────────────────────────────────────┼───────────────────────────────┼─────────────┤\n",
       "│ dense (\u001b[38;5;33mDense\u001b[0m)                      │ (\u001b[38;5;45mNone\u001b[0m, \u001b[38;5;34m128\u001b[0m)                   │       \u001b[38;5;34m8,320\u001b[0m │\n",
       "├────────────────────────────────────┼───────────────────────────────┼─────────────┤\n",
       "│ dense_1 (\u001b[38;5;33mDense\u001b[0m)                    │ (\u001b[38;5;45mNone\u001b[0m, \u001b[38;5;34m3\u001b[0m)                     │         \u001b[38;5;34m387\u001b[0m │\n",
       "└────────────────────────────────────┴───────────────────────────────┴─────────────┘\n"
      ]
     },
     "metadata": {},
     "output_type": "display_data"
    },
    {
     "data": {
      "text/html": [
       "<pre style=\"white-space:pre;overflow-x:auto;line-height:normal;font-family:Menlo,'DejaVu Sans Mono',consolas,'Courier New',monospace\"><span style=\"font-weight: bold\"> Total params: </span><span style=\"color: #00af00; text-decoration-color: #00af00\">2,136,563</span> (8.15 MB)\n",
       "</pre>\n"
      ],
      "text/plain": [
       "\u001b[1m Total params: \u001b[0m\u001b[38;5;34m2,136,563\u001b[0m (8.15 MB)\n"
      ]
     },
     "metadata": {},
     "output_type": "display_data"
    },
    {
     "data": {
      "text/html": [
       "<pre style=\"white-space:pre;overflow-x:auto;line-height:normal;font-family:Menlo,'DejaVu Sans Mono',consolas,'Courier New',monospace\"><span style=\"font-weight: bold\"> Trainable params: </span><span style=\"color: #00af00; text-decoration-color: #00af00\">712,187</span> (2.72 MB)\n",
       "</pre>\n"
      ],
      "text/plain": [
       "\u001b[1m Trainable params: \u001b[0m\u001b[38;5;34m712,187\u001b[0m (2.72 MB)\n"
      ]
     },
     "metadata": {},
     "output_type": "display_data"
    },
    {
     "data": {
      "text/html": [
       "<pre style=\"white-space:pre;overflow-x:auto;line-height:normal;font-family:Menlo,'DejaVu Sans Mono',consolas,'Courier New',monospace\"><span style=\"font-weight: bold\"> Non-trainable params: </span><span style=\"color: #00af00; text-decoration-color: #00af00\">0</span> (0.00 B)\n",
       "</pre>\n"
      ],
      "text/plain": [
       "\u001b[1m Non-trainable params: \u001b[0m\u001b[38;5;34m0\u001b[0m (0.00 B)\n"
      ]
     },
     "metadata": {},
     "output_type": "display_data"
    },
    {
     "data": {
      "text/html": [
       "<pre style=\"white-space:pre;overflow-x:auto;line-height:normal;font-family:Menlo,'DejaVu Sans Mono',consolas,'Courier New',monospace\"><span style=\"font-weight: bold\"> Optimizer params: </span><span style=\"color: #00af00; text-decoration-color: #00af00\">1,424,376</span> (5.43 MB)\n",
       "</pre>\n"
      ],
      "text/plain": [
       "\u001b[1m Optimizer params: \u001b[0m\u001b[38;5;34m1,424,376\u001b[0m (5.43 MB)\n"
      ]
     },
     "metadata": {},
     "output_type": "display_data"
    }
   ],
   "source": [
    "model.summary()"
   ]
  },
  {
   "cell_type": "code",
   "execution_count": 33,
   "id": "434e57c0",
   "metadata": {},
   "outputs": [
    {
     "data": {
      "image/png": "[encoded data removed]",
      "text/plain": [
       "<Figure size 1200x600 with 2 Axes>"
      ]
     },
     "metadata": {},
     "output_type": "display_data"
    }
   ],
   "source": [
    "plot_history(history)"
   ]
  },
  {
   "cell_type": "markdown",
   "id": "849c59bc",
   "metadata": {},
   "source": [
    "##### The model is exhibiting signs of overfitting, and I need to conduct hyperparameter tuning to address this issue."
   ]
  },
  {
   "cell_type": "markdown",
   "id": "69d3eb7b",
   "metadata": {},
   "source": [
    "# <p style=\"font-family:JetBrains Mono; font-weight:normal; letter-spacing: 2px; color:#FF5C19; font-size:200%; text-align:left;padding: 0px; border-bottom: 3px solid #FF5C19\">Evaluate the LSTM model <a id=\"Evaluate\"></a> </p>"
   ]
  },
  {
   "cell_type": "code",
   "execution_count": 34,
   "id": "d0774c81",
   "metadata": {},
   "outputs": [
    {
     "name": "stdout",
     "output_type": "stream",
     "text": [
      "\u001b[1m209/209\u001b[0m \u001b[32m━━━━━━━━━━━━━━━━━━━━\u001b[0m\u001b[37m\u001b[0m \u001b[1m9s\u001b[0m 39ms/step\n"
     ]
    }
   ],
   "source": [
    "y_pred_lstm_prob = model.predict(X_test_padded)\n",
    "y_pred_lstm      = np.argmax(y_pred_lstm_prob, axis=1)  # Get the index of the maximum probability for each sample\n",
    "accuracy_lstm    = accuracy_score(y_test, y_pred_lstm)"
   ]
  },
  {
   "cell_type": "code",
   "execution_count": 35,
   "id": "541d3eb8",
   "metadata": {},
   "outputs": [
    {
     "name": "stdout",
     "output_type": "stream",
     "text": [
      "LSTM Accuracy: 81\n"
     ]
    }
   ],
   "source": [
    "print(\"LSTM Accuracy:\", round(accuracy_lstm * 100))"
   ]
  },
  {
   "cell_type": "code",
   "execution_count": 36,
   "id": "64513a3c",
   "metadata": {},
   "outputs": [
    {
     "name": "stdout",
     "output_type": "stream",
     "text": [
      "              precision    recall  f1-score   support\n",
      "\n",
      "           0       0.55      0.39      0.45       958\n",
      "           1       0.83      0.90      0.86      3169\n",
      "           2       0.84      0.85      0.85      2553\n",
      "\n",
      "    accuracy                           0.81      6680\n",
      "   macro avg       0.74      0.71      0.72      6680\n",
      "weighted avg       0.79      0.81      0.80      6680\n",
      "\n"
     ]
    }
   ],
   "source": [
    "print(classification_report(y_test, y_pred_lstm))"
   ]
  },
  {
   "cell_type": "markdown",
   "id": "7e5623cb",
   "metadata": {},
   "source": [
    "# <p style=\"font-family:JetBrains Mono; font-weight:normal; letter-spacing: 2px; color:#FF5C19; font-size:150%; text-align:left;padding: 0px; border-bottom: 3px solid #FF5C19\"> Model Testing  <a id=\"Model_Testing\"></a> </p>"
   ]
  },
  {
   "cell_type": "markdown",
   "id": "305a860e",
   "metadata": {},
   "source": [
    "# <p style=\"font-family:JetBrains Mono; font-weight:normal; letter-spacing: 2px; color:#FF5C19; font-size:120%; text-align:left;padding: 0px; border-bottom: 3px solid #FF5C19\"> Postive review </p>"
   ]
  },
  {
   "cell_type": "code",
   "execution_count": 37,
   "id": "dd5bada0",
   "metadata": {},
   "outputs": [
    {
     "name": "stdout",
     "output_type": "stream",
     "text": [
      "\u001b[1m1/1\u001b[0m \u001b[32m━━━━━━━━━━━━━━━━━━━━\u001b[0m\u001b[37m\u001b[0m \u001b[1m0s\u001b[0m 44ms/step\n",
      "Predicted Sentiment: Positive\n"
     ]
    }
   ],
   "source": [
    "# Define the input sentence\n",
    "input_sentence = \"Absolutely loved the new menu items at the restaurant, the flavors were amazing, and the service was excellent!\"\n",
    "\n",
    "# Preprocess the input sentence\n",
    "cleaned_sentence = cleanTweets(input_sentence)\n",
    "removed_stopwords_sentence = remove_stopwords_spacy(cleaned_sentence)\n",
    "input_sequence = tokenizer.texts_to_sequences([removed_stopwords_sentence])\n",
    "padded_input_sequence = np.array(pad_sequences(input_sequence, maxlen=max_seq_length, padding='pre'))\n",
    "\n",
    "# Make sentiment prediction\n",
    "predicted_probabilities = model.predict(padded_input_sequence)\n",
    "predicted_class = np.argmax(predicted_probabilities)\n",
    "\n",
    "# Map predicted class to sentiment label\n",
    "sentiment_labels = {0: 'Neutral', 1: 'Positive', 2: 'Negative'}\n",
    "predicted_sentiment = sentiment_labels[predicted_class]\n",
    "\n",
    "# Print the results\n",
    "print(\"Predicted Sentiment:\", predicted_sentiment)"
   ]
  },
  {
   "cell_type": "markdown",
   "id": "7590e830",
   "metadata": {},
   "source": [
    "# <p style=\"font-family:JetBrains Mono; font-weight:normal; letter-spacing: 2px; color:#FF5C19; font-size:120%; text-align:left;padding: 0px; border-bottom: 3px solid #FF5C19\"> Negative review </p> "
   ]
  },
  {
   "cell_type": "code",
   "execution_count": 38,
   "id": "ec4113ec",
   "metadata": {},
   "outputs": [
    {
     "name": "stdout",
     "output_type": "stream",
     "text": [
      "\u001b[1m1/1\u001b[0m \u001b[32m━━━━━━━━━━━━━━━━━━━━\u001b[0m\u001b[37m\u001b[0m \u001b[1m0s\u001b[0m 52ms/step\n",
      "Predicted Sentiment: Negative\n"
     ]
    }
   ],
   "source": [
    "# Define the input sentence\n",
    "input_sentence = 'location wack   literally stop taking orders people sit parking lot like     minutes       m   don t order dinner food anymore   gone multiple times right leaving pinballz arcade sit parking lot drive line waiting wait order menu change   look mcdonald s wanted breakfast deluxe wouldn t shown       morning thank'\n",
    "\n",
    "# Preprocess the input sentence\n",
    "cleaned_sentence = cleanTweets(input_sentence)\n",
    "removed_stopwords_sentence = remove_stopwords_spacy(cleaned_sentence)\n",
    "input_sequence = tokenizer.texts_to_sequences([removed_stopwords_sentence])\n",
    "padded_input_sequence = np.array(pad_sequences(input_sequence, maxlen=max_seq_length, padding='pre'))\n",
    "\n",
    "# Make sentiment prediction\n",
    "predicted_probabilities = model.predict(padded_input_sequence)\n",
    "predicted_class = np.argmax(predicted_probabilities)\n",
    "\n",
    "# Map predicted class to sentiment label\n",
    "sentiment_labels = {0: 'Neutral', 1: 'Positive', 2: 'Negative'}\n",
    "predicted_sentiment = sentiment_labels[predicted_class]\n",
    "\n",
    "# Print the results\n",
    "print(\"Predicted Sentiment:\", predicted_sentiment)"
   ]
  },
  {
   "cell_type": "markdown",
   "id": "a7fd2960",
   "metadata": {},
   "source": [
    "# <p style=\"font-family:JetBrains Mono; font-weight:normal; letter-spacing: 2px; color:#FF5C19; font-size:120%; text-align:left;padding: 0px; border-bottom: 3px solid #FF5C19\">Neutral review</p> "
   ]
  },
  {
   "cell_type": "code",
   "execution_count": 43,
   "id": "d40a0441",
   "metadata": {},
   "outputs": [
    {
     "name": "stdout",
     "output_type": "stream",
     "text": [
      "\u001b[1m1/1\u001b[0m \u001b[32m━━━━━━━━━━━━━━━━━━━━\u001b[0m\u001b[37m\u001b[0m \u001b[1m0s\u001b[0m 48ms/step\n",
      "Predicted Sentiment: Neutral\n"
     ]
    }
   ],
   "source": [
    "# Define the input sentence\n",
    "input_sentence = 'Good food but bad services'\n",
    "\n",
    "# Preprocess the input sentence\n",
    "cleaned_sentence = cleanTweets(input_sentence)\n",
    "removed_stopwords_sentence = remove_stopwords_spacy(cleaned_sentence)\n",
    "input_sequence = tokenizer.texts_to_sequences([removed_stopwords_sentence])\n",
    "padded_input_sequence = np.array(pad_sequences(input_sequence, maxlen=max_seq_length, padding='pre'))\n",
    "\n",
    "# Make sentiment prediction\n",
    "predicted_probabilities = model.predict(padded_input_sequence)\n",
    "predicted_class = np.argmax(predicted_probabilities)\n",
    "\n",
    "# Map predicted class to sentiment label\n",
    "sentiment_labels = {0: 'Neutral', 1: 'Positive', 2: 'Negative'}\n",
    "predicted_sentiment = sentiment_labels[predicted_class]\n",
    "\n",
    "# Print the results\n",
    "print(\"Predicted Sentiment:\", predicted_sentiment)"
   ]
  },
  {
   "cell_type": "markdown",
   "id": "9cb731fd",
   "metadata": {},
   "source": [
    "# <p style=\"font-family:JetBrains Mono; font-weight:normal; letter-spacing: 2px; color:#FF5C19; font-size:200%; text-align:left;padding: 0px; border-bottom: 3px solid #FF5C19\"> Conclusion <a id=\"conclusion\"></a> </p> "
   ]
  },
  {
   "cell_type": "markdown",
   "id": "6e245a18",
   "metadata": {},
   "source": [
    "<div class=\"alert alert-block alert-success\">\n",
    "    <h3>Sentiment Analysis Model</h3>\n",
    "    <br><br>\n",
    "Developed a sentiment analysis model for McDonald's reviews using NLP techniques and an LSTM neural network.\n",
    "</div>\n",
    "\n",
    "<div class=\"alert alert-block alert-success\">\n",
    "    <h3>Objective Achievement</h3>\n",
    "    <br><br>\n",
    "Successfully achieved the goal of classifying customer sentiments as positive, negative, or neutral based on textual reviews.\n",
    "</div>\n",
    "\n",
    "<div class=\"alert alert-block alert-success\">\n",
    "    <h3>Data Preprocessing</h3>\n",
    "    <br><br>\n",
    "Implemented robust data preprocessing steps, including text cleaning, removal of stopwords using SpaCy, and conversion of ratings to sentiment labels.\n",
    "</div>\n",
    "\n",
    "<div class=\"alert alert-block alert-success\">\n",
    "    <h3>Model Training and Evaluation</h3>\n",
    "    <br><br>\n",
    "Trained the LSTM model with pre-trained word embeddings, incorporating early stopping to prevent overfitting. Achieved good accuracy and validated the model's generalization performance.\n",
    "</div>\n",
    "\n",
    "<div class=\"alert alert-block alert-success\">\n",
    "    <h3>Practical Application</h3>\n",
    "    <br><br>\n",
    "Demonstrated the practical application of the model with sample positive and negative reviews, showcasing its potential for real-world insights into customer satisfaction.\n",
    "</div>"
   ]
  },
  {
   "cell_type": "markdown",
   "id": "389cbc57",
   "metadata": {},
   "source": [
    "##### Overall, the developed solution provides McDonald's with an efficient tool for automated sentiment analysis, contributing to data-driven decision-making and enhancing the overall understanding of customer sentiments."
   ]
  }
 ],
 "metadata": {
  "kernelspec": {
   "display_name": "Python 3 (ipykernel)",
   "language": "python",
   "name": "python3"
  },
  "language_info": {
   "codemirror_mode": {
    "name": "ipython",
    "version": 3
   },
   "file_extension": ".py",
   "mimetype": "text/x-python",
   "name": "python",
   "nbconvert_exporter": "python",
   "pygments_lexer": "ipython3",
   "version": "3.11.5"
  }
 },
 "nbformat": 4,
 "nbformat_minor": 5
}
